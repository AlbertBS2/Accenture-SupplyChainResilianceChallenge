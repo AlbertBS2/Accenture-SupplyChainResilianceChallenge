{
 "cells": [
  {
   "cell_type": "code",
   "execution_count": 1,
   "id": "921bb459",
   "metadata": {},
   "outputs": [],
   "source": [
    "import pandas as pd\n",
    "import numpy as np\n",
    "import matplotlib.pyplot as plt\n",
    "import seaborn as sns"
   ]
  },
  {
   "cell_type": "markdown",
   "id": "5298b6cf",
   "metadata": {},
   "source": [
    "## Reading data"
   ]
  },
  {
   "cell_type": "code",
   "execution_count": 2,
   "id": "2138326f",
   "metadata": {},
   "outputs": [],
   "source": [
    "df = pd.read_csv('datathon_SC_ACN_22/orders.csv', delimiter=';')\n",
    "df = df.replace('ATHENAS','Athens')\n",
    "df = df.replace('BCN','Barcelona')"
   ]
  },
  {
   "cell_type": "code",
   "execution_count": 8,
   "id": "c6ce9809",
   "metadata": {},
   "outputs": [
    {
     "data": {
      "text/plain": [
       "(87120, 27156)"
      ]
     },
     "execution_count": 8,
     "metadata": {},
     "output_type": "execute_result"
    }
   ],
   "source": [
    "f, t=df['late_order'].value_counts()\n",
    "f, t"
   ]
  },
  {
   "cell_type": "code",
   "execution_count": 9,
   "id": "f5a2882e",
   "metadata": {
    "scrolled": true
   },
   "outputs": [],
   "source": [
    "T = df[df['late_order']==True]\n",
    "F = df[df['late_order']==False]\n",
    "tru = T.sample(f, replace= True)\n",
    "df = pd.concat([tru, F], axis=0)"
   ]
  },
  {
   "cell_type": "code",
   "execution_count": 14,
   "id": "8521a582",
   "metadata": {},
   "outputs": [],
   "source": [
    "df_late = df[df['late_order'] == True]"
   ]
  },
  {
   "cell_type": "code",
   "execution_count": 15,
   "id": "b7a7abed",
   "metadata": {
    "scrolled": true
   },
   "outputs": [],
   "source": [
    "df_late.reset_index(inplace=True)\n",
    "del df_late['index']"
   ]
  },
  {
   "cell_type": "markdown",
   "id": "d714e28c",
   "metadata": {},
   "source": [
    "## Exploratory Analysis"
   ]
  },
  {
   "cell_type": "code",
   "execution_count": 17,
   "id": "2d7ea17a",
   "metadata": {},
   "outputs": [
    {
     "data": {
      "text/plain": [
       "0.39317206529898824"
      ]
     },
     "execution_count": 17,
     "metadata": {},
     "output_type": "execute_result"
    }
   ],
   "source": [
    "# Percentage of orders arriving late from origin: Rotterdam\n",
    "R1 = (df_late['origin_port'] == 'Rotterdam').value_counts()[True] #Orders arriving late\n",
    "Rtot = (df['origin_port'] == 'Rotterdam').value_counts()[True].sum() #Total orders\n",
    "R1 / Rtot"
   ]
  },
  {
   "cell_type": "code",
   "execution_count": 18,
   "id": "2146ccf5",
   "metadata": {},
   "outputs": [
    {
     "data": {
      "text/plain": [
       "0.5456882111707965"
      ]
     },
     "execution_count": 18,
     "metadata": {},
     "output_type": "execute_result"
    }
   ],
   "source": [
    "# Percentage of orders arriving late from origin: Barcelona\n",
    "B1 = (df_late['origin_port'] == 'Barcelona').value_counts()[True]\n",
    "Btot = (df['origin_port'] == 'Barcelona').value_counts()[True].sum()\n",
    "B1 / Btot"
   ]
  },
  {
   "cell_type": "code",
   "execution_count": 19,
   "id": "56343caa",
   "metadata": {},
   "outputs": [
    {
     "data": {
      "text/plain": [
       "0.6579036197208268"
      ]
     },
     "execution_count": 19,
     "metadata": {},
     "output_type": "execute_result"
    }
   ],
   "source": [
    "# Percentage of orders arriving late from origin: Athens\n",
    "A1 = (df_late['origin_port'] == 'Athens').value_counts()[True]\n",
    "Atot = (df['origin_port'] == 'Athens').value_counts()[True].sum()\n",
    "A1 / Atot"
   ]
  },
  {
   "cell_type": "code",
   "execution_count": 20,
   "id": "54c02e86",
   "metadata": {
    "scrolled": false
   },
   "outputs": [
    {
     "data": {
      "text/plain": [
       "<seaborn.axisgrid.FacetGrid at 0x7feab6ba0d00>"
      ]
     },
     "execution_count": 20,
     "metadata": {},
     "output_type": "execute_result"
    },
    {
     "data": {
      "image/png": "[encoded data removed]",
      "text/plain": [
       "<Figure size 1000x500 with 2 Axes>"
      ]
     },
     "metadata": {},
     "output_type": "display_data"
    }
   ],
   "source": [
    "sns.catplot(x='origin_port',\n",
    "            col='late_order',\n",
    "            kind='count',\n",
    "            data=df)"
   ]
  },
  {
   "cell_type": "code",
   "execution_count": 21,
   "id": "a65cc34a",
   "metadata": {
    "scrolled": true
   },
   "outputs": [
    {
     "data": {
      "text/plain": [
       "customs_procedures\n",
       "CRF                   73689\n",
       "DTD                   67889\n",
       "DTP                   32662\n",
       "dtype: int64"
      ]
     },
     "execution_count": 21,
     "metadata": {},
     "output_type": "execute_result"
    }
   ],
   "source": [
    "df.value_counts(['customs_procedures'])"
   ]
  },
  {
   "cell_type": "code",
   "execution_count": 22,
   "id": "7dc1460a",
   "metadata": {},
   "outputs": [
    {
     "data": {
      "text/plain": [
       "0.439889264340675"
      ]
     },
     "execution_count": 22,
     "metadata": {},
     "output_type": "execute_result"
    }
   ],
   "source": [
    "CRF1 = (df_late['customs_procedures'] == 'CRF').value_counts()[True] #Orders arriving late\n",
    "CRFtot = (df['customs_procedures'] == 'CRF').value_counts()[True].sum() #Total orders\n",
    "CRF1 / CRFtot"
   ]
  },
  {
   "cell_type": "code",
   "execution_count": 23,
   "id": "e14951dc",
   "metadata": {},
   "outputs": [
    {
     "data": {
      "text/plain": [
       "0.5205703427653965"
      ]
     },
     "execution_count": 23,
     "metadata": {},
     "output_type": "execute_result"
    }
   ],
   "source": [
    "DTD1 = (df_late['customs_procedures'] == 'DTD').value_counts()[True] #Orders arriving late\n",
    "DTDtot = (df['customs_procedures'] == 'DTD').value_counts()[True].sum() #Total orders\n",
    "DTD1 / DTDtot"
   ]
  },
  {
   "cell_type": "code",
   "execution_count": 24,
   "id": "dbde37a6",
   "metadata": {},
   "outputs": [
    {
     "data": {
      "text/plain": [
       "0.5928602045190129"
      ]
     },
     "execution_count": 24,
     "metadata": {},
     "output_type": "execute_result"
    }
   ],
   "source": [
    "DTP1 = (df_late['customs_procedures'] == 'DTP').value_counts()[True] #Orders arriving late\n",
    "DTPtot = (df['customs_procedures'] == 'DTP').value_counts()[True].sum() #Total orders\n",
    "DTP1 / DTPtot"
   ]
  },
  {
   "cell_type": "code",
   "execution_count": 25,
   "id": "fd673e65",
   "metadata": {},
   "outputs": [
    {
     "data": {
      "text/plain": [
       "<seaborn.axisgrid.FacetGrid at 0x7feab7f0bbe0>"
      ]
     },
     "execution_count": 25,
     "metadata": {},
     "output_type": "execute_result"
    },
    {
     "data": {
      "image/png": "[encoded data removed]",
      "text/plain": [
       "<Figure size 1000x500 with 2 Axes>"
      ]
     },
     "metadata": {},
     "output_type": "display_data"
    }
   ],
   "source": [
    "sns.catplot(x='customs_procedures',\n",
    "            col='late_order',\n",
    "            kind='count',\n",
    "            data=df)"
   ]
  },
  {
   "cell_type": "code",
   "execution_count": 26,
   "id": "54189ec3",
   "metadata": {
    "scrolled": false
   },
   "outputs": [
    {
     "data": {
      "text/plain": [
       "logistic_hub\n",
       "Venlo           33402\n",
       "Hamburg         31026\n",
       "Warsaw          23801\n",
       "Rome            19513\n",
       "Lille           18446\n",
       "Dusseldorf      17626\n",
       "Zaragoza        13874\n",
       "Bratislava       7871\n",
       "Liege            6950\n",
       "dtype: int64"
      ]
     },
     "execution_count": 26,
     "metadata": {},
     "output_type": "execute_result"
    }
   ],
   "source": [
    "df.value_counts(['logistic_hub'])"
   ]
  },
  {
   "cell_type": "code",
   "execution_count": 27,
   "id": "a3f63eac",
   "metadata": {
    "scrolled": false
   },
   "outputs": [
    {
     "data": {
      "text/plain": [
       "<seaborn.axisgrid.FacetGrid at 0x7fea9b71bd30>"
      ]
     },
     "execution_count": 27,
     "metadata": {},
     "output_type": "execute_result"
    },
    {
     "data": {
      "image/png": "[encoded data removed]",
      "text/plain": [
       "<Figure size 1000x500 with 2 Axes>"
      ]
     },
     "metadata": {},
     "output_type": "display_data"
    }
   ],
   "source": [
    "sns.catplot(x='logistic_hub',\n",
    "            col='late_order',\n",
    "            kind='count',\n",
    "            data=df)"
   ]
  },
  {
   "cell_type": "code",
   "execution_count": 28,
   "id": "a5bccf39",
   "metadata": {},
   "outputs": [],
   "source": [
    "df_cities = pd.read_csv('datathon_SC_ACN_22/cities_data.csv', delimiter=';')"
   ]
  },
  {
   "cell_type": "code",
   "execution_count": 29,
   "id": "19d2f8f7",
   "metadata": {
    "scrolled": true
   },
   "outputs": [
    {
     "data": {
      "text/html": [
       "<div>\n",
       "<style scoped>\n",
       "    .dataframe tbody tr th:only-of-type {\n",
       "        vertical-align: middle;\n",
       "    }\n",
       "\n",
       "    .dataframe tbody tr th {\n",
       "        vertical-align: top;\n",
       "    }\n",
       "\n",
       "    .dataframe thead th {\n",
       "        text-align: right;\n",
       "    }\n",
       "</style>\n",
       "<table border=\"1\" class=\"dataframe\">\n",
       "  <thead>\n",
       "    <tr style=\"text-align: right;\">\n",
       "      <th></th>\n",
       "      <th>city_from_name</th>\n",
       "      <th>city_to_name</th>\n",
       "      <th>city_from_coord</th>\n",
       "      <th>city_to_coord</th>\n",
       "      <th>distance</th>\n",
       "    </tr>\n",
       "  </thead>\n",
       "  <tbody>\n",
       "    <tr>\n",
       "      <th>0</th>\n",
       "      <td>Dusseldorf</td>\n",
       "      <td>Zaragoza</td>\n",
       "      <td>(51.2254018, 6.7763137)</td>\n",
       "      <td>(41.6521342, -0.8809428)</td>\n",
       "      <td>1214.4772</td>\n",
       "    </tr>\n",
       "    <tr>\n",
       "      <th>1</th>\n",
       "      <td>Dusseldorf</td>\n",
       "      <td>Venlo</td>\n",
       "      <td>(51.2254018, 6.7763137)</td>\n",
       "      <td>(51.39244885, 6.1511724144122955)</td>\n",
       "      <td>47.3876</td>\n",
       "    </tr>\n",
       "    <tr>\n",
       "      <th>2</th>\n",
       "      <td>Dusseldorf</td>\n",
       "      <td>Bratislava</td>\n",
       "      <td>(51.2254018, 6.7763137)</td>\n",
       "      <td>(48.1516988, 17.1093063)</td>\n",
       "      <td>819.2894</td>\n",
       "    </tr>\n",
       "    <tr>\n",
       "      <th>3</th>\n",
       "      <td>Dusseldorf</td>\n",
       "      <td>Hamburg</td>\n",
       "      <td>(51.2254018, 6.7763137)</td>\n",
       "      <td>(53.550341, 10.000654)</td>\n",
       "      <td>339.2215</td>\n",
       "    </tr>\n",
       "    <tr>\n",
       "      <th>4</th>\n",
       "      <td>Dusseldorf</td>\n",
       "      <td>Rome</td>\n",
       "      <td>(51.2254018, 6.7763137)</td>\n",
       "      <td>(41.8933203, 12.4829321)</td>\n",
       "      <td>1125.0290</td>\n",
       "    </tr>\n",
       "    <tr>\n",
       "      <th>...</th>\n",
       "      <td>...</td>\n",
       "      <td>...</td>\n",
       "      <td>...</td>\n",
       "      <td>...</td>\n",
       "      <td>...</td>\n",
       "    </tr>\n",
       "    <tr>\n",
       "      <th>661</th>\n",
       "      <td>Rotterdam</td>\n",
       "      <td>Helsinki</td>\n",
       "      <td>(51.9244424, 4.47775)</td>\n",
       "      <td>(60.1674881, 24.9427473)</td>\n",
       "      <td>1560.6484</td>\n",
       "    </tr>\n",
       "    <tr>\n",
       "      <th>662</th>\n",
       "      <td>Rotterdam</td>\n",
       "      <td>Prague</td>\n",
       "      <td>(51.9244424, 4.47775)</td>\n",
       "      <td>(50.0874654, 14.4212535)</td>\n",
       "      <td>726.5575</td>\n",
       "    </tr>\n",
       "    <tr>\n",
       "      <th>663</th>\n",
       "      <td>Rotterdam</td>\n",
       "      <td>Valencia</td>\n",
       "      <td>(51.9244424, 4.47775)</td>\n",
       "      <td>(39.4697065, -0.3763353)</td>\n",
       "      <td>1434.1499</td>\n",
       "    </tr>\n",
       "    <tr>\n",
       "      <th>664</th>\n",
       "      <td>Rotterdam</td>\n",
       "      <td>Bremen</td>\n",
       "      <td>(51.9244424, 4.47775)</td>\n",
       "      <td>(53.0758196, 8.8071646)</td>\n",
       "      <td>320.6459</td>\n",
       "    </tr>\n",
       "    <tr>\n",
       "      <th>665</th>\n",
       "      <td>Rotterdam</td>\n",
       "      <td>Porto</td>\n",
       "      <td>(51.9244424, 4.47775)</td>\n",
       "      <td>(41.1494512, -8.6107884)</td>\n",
       "      <td>1558.0329</td>\n",
       "    </tr>\n",
       "  </tbody>\n",
       "</table>\n",
       "<p>666 rows × 5 columns</p>\n",
       "</div>"
      ],
      "text/plain": [
       "    city_from_name city_to_name          city_from_coord  \\\n",
       "0       Dusseldorf     Zaragoza  (51.2254018, 6.7763137)   \n",
       "1       Dusseldorf        Venlo  (51.2254018, 6.7763137)   \n",
       "2       Dusseldorf   Bratislava  (51.2254018, 6.7763137)   \n",
       "3       Dusseldorf      Hamburg  (51.2254018, 6.7763137)   \n",
       "4       Dusseldorf         Rome  (51.2254018, 6.7763137)   \n",
       "..             ...          ...                      ...   \n",
       "661      Rotterdam     Helsinki    (51.9244424, 4.47775)   \n",
       "662      Rotterdam       Prague    (51.9244424, 4.47775)   \n",
       "663      Rotterdam     Valencia    (51.9244424, 4.47775)   \n",
       "664      Rotterdam       Bremen    (51.9244424, 4.47775)   \n",
       "665      Rotterdam        Porto    (51.9244424, 4.47775)   \n",
       "\n",
       "                         city_to_coord   distance  \n",
       "0             (41.6521342, -0.8809428)  1214.4772  \n",
       "1    (51.39244885, 6.1511724144122955)    47.3876  \n",
       "2             (48.1516988, 17.1093063)   819.2894  \n",
       "3               (53.550341, 10.000654)   339.2215  \n",
       "4             (41.8933203, 12.4829321)  1125.0290  \n",
       "..                                 ...        ...  \n",
       "661           (60.1674881, 24.9427473)  1560.6484  \n",
       "662           (50.0874654, 14.4212535)   726.5575  \n",
       "663           (39.4697065, -0.3763353)  1434.1499  \n",
       "664            (53.0758196, 8.8071646)   320.6459  \n",
       "665           (41.1494512, -8.6107884)  1558.0329  \n",
       "\n",
       "[666 rows x 5 columns]"
      ]
     },
     "execution_count": 29,
     "metadata": {},
     "output_type": "execute_result"
    }
   ],
   "source": [
    "df_cities"
   ]
  },
  {
   "cell_type": "code",
   "execution_count": 30,
   "id": "18fff6a8",
   "metadata": {},
   "outputs": [],
   "source": [
    "df_cities = df_cities.rename({'city_from_name':'logistic_hub'}, axis='columns')\n",
    "df_cities = df_cities.rename({'city_to_name':'customer'}, axis='columns')"
   ]
  },
  {
   "cell_type": "code",
   "execution_count": 31,
   "id": "c272ccb0",
   "metadata": {},
   "outputs": [
    {
     "data": {
      "text/html": [
       "<div>\n",
       "<style scoped>\n",
       "    .dataframe tbody tr th:only-of-type {\n",
       "        vertical-align: middle;\n",
       "    }\n",
       "\n",
       "    .dataframe tbody tr th {\n",
       "        vertical-align: top;\n",
       "    }\n",
       "\n",
       "    .dataframe thead th {\n",
       "        text-align: right;\n",
       "    }\n",
       "</style>\n",
       "<table border=\"1\" class=\"dataframe\">\n",
       "  <thead>\n",
       "    <tr style=\"text-align: right;\">\n",
       "      <th></th>\n",
       "      <th>logistic_hub</th>\n",
       "      <th>customer</th>\n",
       "      <th>city_from_coord</th>\n",
       "      <th>city_to_coord</th>\n",
       "      <th>distance</th>\n",
       "    </tr>\n",
       "  </thead>\n",
       "  <tbody>\n",
       "    <tr>\n",
       "      <th>0</th>\n",
       "      <td>Dusseldorf</td>\n",
       "      <td>Zaragoza</td>\n",
       "      <td>(51.2254018, 6.7763137)</td>\n",
       "      <td>(41.6521342, -0.8809428)</td>\n",
       "      <td>1214.4772</td>\n",
       "    </tr>\n",
       "    <tr>\n",
       "      <th>1</th>\n",
       "      <td>Dusseldorf</td>\n",
       "      <td>Venlo</td>\n",
       "      <td>(51.2254018, 6.7763137)</td>\n",
       "      <td>(51.39244885, 6.1511724144122955)</td>\n",
       "      <td>47.3876</td>\n",
       "    </tr>\n",
       "    <tr>\n",
       "      <th>2</th>\n",
       "      <td>Dusseldorf</td>\n",
       "      <td>Bratislava</td>\n",
       "      <td>(51.2254018, 6.7763137)</td>\n",
       "      <td>(48.1516988, 17.1093063)</td>\n",
       "      <td>819.2894</td>\n",
       "    </tr>\n",
       "    <tr>\n",
       "      <th>3</th>\n",
       "      <td>Dusseldorf</td>\n",
       "      <td>Hamburg</td>\n",
       "      <td>(51.2254018, 6.7763137)</td>\n",
       "      <td>(53.550341, 10.000654)</td>\n",
       "      <td>339.2215</td>\n",
       "    </tr>\n",
       "    <tr>\n",
       "      <th>4</th>\n",
       "      <td>Dusseldorf</td>\n",
       "      <td>Rome</td>\n",
       "      <td>(51.2254018, 6.7763137)</td>\n",
       "      <td>(41.8933203, 12.4829321)</td>\n",
       "      <td>1125.0290</td>\n",
       "    </tr>\n",
       "    <tr>\n",
       "      <th>...</th>\n",
       "      <td>...</td>\n",
       "      <td>...</td>\n",
       "      <td>...</td>\n",
       "      <td>...</td>\n",
       "      <td>...</td>\n",
       "    </tr>\n",
       "    <tr>\n",
       "      <th>661</th>\n",
       "      <td>Rotterdam</td>\n",
       "      <td>Helsinki</td>\n",
       "      <td>(51.9244424, 4.47775)</td>\n",
       "      <td>(60.1674881, 24.9427473)</td>\n",
       "      <td>1560.6484</td>\n",
       "    </tr>\n",
       "    <tr>\n",
       "      <th>662</th>\n",
       "      <td>Rotterdam</td>\n",
       "      <td>Prague</td>\n",
       "      <td>(51.9244424, 4.47775)</td>\n",
       "      <td>(50.0874654, 14.4212535)</td>\n",
       "      <td>726.5575</td>\n",
       "    </tr>\n",
       "    <tr>\n",
       "      <th>663</th>\n",
       "      <td>Rotterdam</td>\n",
       "      <td>Valencia</td>\n",
       "      <td>(51.9244424, 4.47775)</td>\n",
       "      <td>(39.4697065, -0.3763353)</td>\n",
       "      <td>1434.1499</td>\n",
       "    </tr>\n",
       "    <tr>\n",
       "      <th>664</th>\n",
       "      <td>Rotterdam</td>\n",
       "      <td>Bremen</td>\n",
       "      <td>(51.9244424, 4.47775)</td>\n",
       "      <td>(53.0758196, 8.8071646)</td>\n",
       "      <td>320.6459</td>\n",
       "    </tr>\n",
       "    <tr>\n",
       "      <th>665</th>\n",
       "      <td>Rotterdam</td>\n",
       "      <td>Porto</td>\n",
       "      <td>(51.9244424, 4.47775)</td>\n",
       "      <td>(41.1494512, -8.6107884)</td>\n",
       "      <td>1558.0329</td>\n",
       "    </tr>\n",
       "  </tbody>\n",
       "</table>\n",
       "<p>666 rows × 5 columns</p>\n",
       "</div>"
      ],
      "text/plain": [
       "    logistic_hub    customer          city_from_coord  \\\n",
       "0     Dusseldorf    Zaragoza  (51.2254018, 6.7763137)   \n",
       "1     Dusseldorf       Venlo  (51.2254018, 6.7763137)   \n",
       "2     Dusseldorf  Bratislava  (51.2254018, 6.7763137)   \n",
       "3     Dusseldorf     Hamburg  (51.2254018, 6.7763137)   \n",
       "4     Dusseldorf        Rome  (51.2254018, 6.7763137)   \n",
       "..           ...         ...                      ...   \n",
       "661    Rotterdam    Helsinki    (51.9244424, 4.47775)   \n",
       "662    Rotterdam      Prague    (51.9244424, 4.47775)   \n",
       "663    Rotterdam    Valencia    (51.9244424, 4.47775)   \n",
       "664    Rotterdam      Bremen    (51.9244424, 4.47775)   \n",
       "665    Rotterdam       Porto    (51.9244424, 4.47775)   \n",
       "\n",
       "                         city_to_coord   distance  \n",
       "0             (41.6521342, -0.8809428)  1214.4772  \n",
       "1    (51.39244885, 6.1511724144122955)    47.3876  \n",
       "2             (48.1516988, 17.1093063)   819.2894  \n",
       "3               (53.550341, 10.000654)   339.2215  \n",
       "4             (41.8933203, 12.4829321)  1125.0290  \n",
       "..                                 ...        ...  \n",
       "661           (60.1674881, 24.9427473)  1560.6484  \n",
       "662           (50.0874654, 14.4212535)   726.5575  \n",
       "663           (39.4697065, -0.3763353)  1434.1499  \n",
       "664            (53.0758196, 8.8071646)   320.6459  \n",
       "665           (41.1494512, -8.6107884)  1558.0329  \n",
       "\n",
       "[666 rows x 5 columns]"
      ]
     },
     "execution_count": 31,
     "metadata": {},
     "output_type": "execute_result"
    }
   ],
   "source": [
    "df_cities"
   ]
  },
  {
   "cell_type": "code",
   "execution_count": 32,
   "id": "3ec78323",
   "metadata": {},
   "outputs": [
    {
     "data": {
      "text/html": [
       "<div>\n",
       "<style scoped>\n",
       "    .dataframe tbody tr th:only-of-type {\n",
       "        vertical-align: middle;\n",
       "    }\n",
       "\n",
       "    .dataframe tbody tr th {\n",
       "        vertical-align: top;\n",
       "    }\n",
       "\n",
       "    .dataframe thead th {\n",
       "        text-align: right;\n",
       "    }\n",
       "</style>\n",
       "<table border=\"1\" class=\"dataframe\">\n",
       "  <thead>\n",
       "    <tr style=\"text-align: right;\">\n",
       "      <th></th>\n",
       "      <th>order_id</th>\n",
       "      <th>origin_port</th>\n",
       "      <th>3pl</th>\n",
       "      <th>customs_procedures</th>\n",
       "      <th>logistic_hub</th>\n",
       "      <th>customer</th>\n",
       "      <th>product_id</th>\n",
       "      <th>units</th>\n",
       "      <th>late_order</th>\n",
       "    </tr>\n",
       "  </thead>\n",
       "  <tbody>\n",
       "    <tr>\n",
       "      <th>103238</th>\n",
       "      <td>4ae8df0c2f6b</td>\n",
       "      <td>Rotterdam</td>\n",
       "      <td>v_004</td>\n",
       "      <td>DTP</td>\n",
       "      <td>Venlo</td>\n",
       "      <td>Stockholm</td>\n",
       "      <td>1690628</td>\n",
       "      <td>507</td>\n",
       "      <td>True</td>\n",
       "    </tr>\n",
       "    <tr>\n",
       "      <th>5135</th>\n",
       "      <td>f7e61794ca0a</td>\n",
       "      <td>Athens</td>\n",
       "      <td>v_004</td>\n",
       "      <td>CRF</td>\n",
       "      <td>Venlo</td>\n",
       "      <td>Madrid</td>\n",
       "      <td>1676563</td>\n",
       "      <td>479</td>\n",
       "      <td>True</td>\n",
       "    </tr>\n",
       "    <tr>\n",
       "      <th>73979</th>\n",
       "      <td>8fd8ab85a388</td>\n",
       "      <td>Rotterdam</td>\n",
       "      <td>v_004</td>\n",
       "      <td>CRF</td>\n",
       "      <td>Rome</td>\n",
       "      <td>Berlin</td>\n",
       "      <td>1650715</td>\n",
       "      <td>752</td>\n",
       "      <td>True</td>\n",
       "    </tr>\n",
       "    <tr>\n",
       "      <th>108048</th>\n",
       "      <td>4d4db9cf2118</td>\n",
       "      <td>Athens</td>\n",
       "      <td>v_002</td>\n",
       "      <td>DTD</td>\n",
       "      <td>Zaragoza</td>\n",
       "      <td>Lyon</td>\n",
       "      <td>1699564</td>\n",
       "      <td>464</td>\n",
       "      <td>True</td>\n",
       "    </tr>\n",
       "    <tr>\n",
       "      <th>102381</th>\n",
       "      <td>adfa57775ee7</td>\n",
       "      <td>Rotterdam</td>\n",
       "      <td>v_004</td>\n",
       "      <td>CRF</td>\n",
       "      <td>Venlo</td>\n",
       "      <td>Helsinki</td>\n",
       "      <td>1680210</td>\n",
       "      <td>493</td>\n",
       "      <td>True</td>\n",
       "    </tr>\n",
       "    <tr>\n",
       "      <th>...</th>\n",
       "      <td>...</td>\n",
       "      <td>...</td>\n",
       "      <td>...</td>\n",
       "      <td>...</td>\n",
       "      <td>...</td>\n",
       "      <td>...</td>\n",
       "      <td>...</td>\n",
       "      <td>...</td>\n",
       "      <td>...</td>\n",
       "    </tr>\n",
       "    <tr>\n",
       "      <th>114271</th>\n",
       "      <td>3f4b15fb770e</td>\n",
       "      <td>Rotterdam</td>\n",
       "      <td>v_002</td>\n",
       "      <td>CRF</td>\n",
       "      <td>Dusseldorf</td>\n",
       "      <td>Bordeaux</td>\n",
       "      <td>1681376</td>\n",
       "      <td>645</td>\n",
       "      <td>False</td>\n",
       "    </tr>\n",
       "    <tr>\n",
       "      <th>114272</th>\n",
       "      <td>d2e6978a38fd</td>\n",
       "      <td>Barcelona</td>\n",
       "      <td>v_004</td>\n",
       "      <td>DTD</td>\n",
       "      <td>Dusseldorf</td>\n",
       "      <td>Berlin</td>\n",
       "      <td>1676942</td>\n",
       "      <td>502</td>\n",
       "      <td>False</td>\n",
       "    </tr>\n",
       "    <tr>\n",
       "      <th>114273</th>\n",
       "      <td>b88babd5c7bd</td>\n",
       "      <td>Rotterdam</td>\n",
       "      <td>v_002</td>\n",
       "      <td>DTP</td>\n",
       "      <td>Dusseldorf</td>\n",
       "      <td>Rome</td>\n",
       "      <td>1692737</td>\n",
       "      <td>464</td>\n",
       "      <td>False</td>\n",
       "    </tr>\n",
       "    <tr>\n",
       "      <th>114274</th>\n",
       "      <td>b0b5c761613f</td>\n",
       "      <td>Barcelona</td>\n",
       "      <td>v_003</td>\n",
       "      <td>DTD</td>\n",
       "      <td>Dusseldorf</td>\n",
       "      <td>Munich</td>\n",
       "      <td>1699974</td>\n",
       "      <td>388</td>\n",
       "      <td>False</td>\n",
       "    </tr>\n",
       "    <tr>\n",
       "      <th>114275</th>\n",
       "      <td>1ab8e51519e4</td>\n",
       "      <td>Rotterdam</td>\n",
       "      <td>v_002</td>\n",
       "      <td>DTD</td>\n",
       "      <td>Venlo</td>\n",
       "      <td>Bucharest</td>\n",
       "      <td>1620510</td>\n",
       "      <td>482</td>\n",
       "      <td>False</td>\n",
       "    </tr>\n",
       "  </tbody>\n",
       "</table>\n",
       "<p>174240 rows × 9 columns</p>\n",
       "</div>"
      ],
      "text/plain": [
       "            order_id origin_port    3pl customs_procedures logistic_hub  \\\n",
       "103238  4ae8df0c2f6b   Rotterdam  v_004                DTP        Venlo   \n",
       "5135    f7e61794ca0a      Athens  v_004                CRF        Venlo   \n",
       "73979   8fd8ab85a388   Rotterdam  v_004                CRF         Rome   \n",
       "108048  4d4db9cf2118      Athens  v_002                DTD     Zaragoza   \n",
       "102381  adfa57775ee7   Rotterdam  v_004                CRF        Venlo   \n",
       "...              ...         ...    ...                ...          ...   \n",
       "114271  3f4b15fb770e   Rotterdam  v_002                CRF   Dusseldorf   \n",
       "114272  d2e6978a38fd   Barcelona  v_004                DTD   Dusseldorf   \n",
       "114273  b88babd5c7bd   Rotterdam  v_002                DTP   Dusseldorf   \n",
       "114274  b0b5c761613f   Barcelona  v_003                DTD   Dusseldorf   \n",
       "114275  1ab8e51519e4   Rotterdam  v_002                DTD        Venlo   \n",
       "\n",
       "         customer  product_id  units  late_order  \n",
       "103238  Stockholm     1690628    507        True  \n",
       "5135       Madrid     1676563    479        True  \n",
       "73979      Berlin     1650715    752        True  \n",
       "108048       Lyon     1699564    464        True  \n",
       "102381   Helsinki     1680210    493        True  \n",
       "...           ...         ...    ...         ...  \n",
       "114271   Bordeaux     1681376    645       False  \n",
       "114272     Berlin     1676942    502       False  \n",
       "114273       Rome     1692737    464       False  \n",
       "114274     Munich     1699974    388       False  \n",
       "114275  Bucharest     1620510    482       False  \n",
       "\n",
       "[174240 rows x 9 columns]"
      ]
     },
     "execution_count": 32,
     "metadata": {},
     "output_type": "execute_result"
    }
   ],
   "source": [
    "df"
   ]
  },
  {
   "cell_type": "code",
   "execution_count": 33,
   "id": "05f1a6a6",
   "metadata": {
    "scrolled": true
   },
   "outputs": [
    {
     "name": "stdout",
     "output_type": "stream",
     "text": [
      "<class 'pandas.core.frame.DataFrame'>\n",
      "RangeIndex: 666 entries, 0 to 665\n",
      "Data columns (total 5 columns):\n",
      " #   Column           Non-Null Count  Dtype  \n",
      "---  ------           --------------  -----  \n",
      " 0   logistic_hub     666 non-null    object \n",
      " 1   customer         666 non-null    object \n",
      " 2   city_from_coord  666 non-null    object \n",
      " 3   city_to_coord    666 non-null    object \n",
      " 4   distance         666 non-null    float64\n",
      "dtypes: float64(1), object(4)\n",
      "memory usage: 26.1+ KB\n"
     ]
    }
   ],
   "source": [
    "df_cities.info()"
   ]
  },
  {
   "cell_type": "code",
   "execution_count": 34,
   "id": "880a2ad7",
   "metadata": {},
   "outputs": [],
   "source": [
    "df_m = df.merge(df_cities, how='left', on=['logistic_hub', 'customer']) #Left 3526615 #Right 3525953 # 3525566"
   ]
  },
  {
   "cell_type": "code",
   "execution_count": 35,
   "id": "1916c587",
   "metadata": {},
   "outputs": [
    {
     "data": {
      "text/html": [
       "<div>\n",
       "<style scoped>\n",
       "    .dataframe tbody tr th:only-of-type {\n",
       "        vertical-align: middle;\n",
       "    }\n",
       "\n",
       "    .dataframe tbody tr th {\n",
       "        vertical-align: top;\n",
       "    }\n",
       "\n",
       "    .dataframe thead th {\n",
       "        text-align: right;\n",
       "    }\n",
       "</style>\n",
       "<table border=\"1\" class=\"dataframe\">\n",
       "  <thead>\n",
       "    <tr style=\"text-align: right;\">\n",
       "      <th></th>\n",
       "      <th>order_id</th>\n",
       "      <th>origin_port</th>\n",
       "      <th>3pl</th>\n",
       "      <th>customs_procedures</th>\n",
       "      <th>logistic_hub</th>\n",
       "      <th>customer</th>\n",
       "      <th>product_id</th>\n",
       "      <th>units</th>\n",
       "      <th>late_order</th>\n",
       "      <th>city_from_coord</th>\n",
       "      <th>city_to_coord</th>\n",
       "      <th>distance</th>\n",
       "    </tr>\n",
       "  </thead>\n",
       "  <tbody>\n",
       "    <tr>\n",
       "      <th>0</th>\n",
       "      <td>4ae8df0c2f6b</td>\n",
       "      <td>Rotterdam</td>\n",
       "      <td>v_004</td>\n",
       "      <td>DTP</td>\n",
       "      <td>Venlo</td>\n",
       "      <td>Stockholm</td>\n",
       "      <td>1690628</td>\n",
       "      <td>507</td>\n",
       "      <td>True</td>\n",
       "      <td>(51.39244885, 6.1511724144122955)</td>\n",
       "      <td>(59.3251172, 18.0710935)</td>\n",
       "      <td>1159.0472</td>\n",
       "    </tr>\n",
       "    <tr>\n",
       "      <th>1</th>\n",
       "      <td>f7e61794ca0a</td>\n",
       "      <td>Athens</td>\n",
       "      <td>v_004</td>\n",
       "      <td>CRF</td>\n",
       "      <td>Venlo</td>\n",
       "      <td>Madrid</td>\n",
       "      <td>1676563</td>\n",
       "      <td>479</td>\n",
       "      <td>True</td>\n",
       "      <td>(51.39244885, 6.1511724144122955)</td>\n",
       "      <td>(40.4167047, -3.7035825)</td>\n",
       "      <td>1436.9241</td>\n",
       "    </tr>\n",
       "    <tr>\n",
       "      <th>2</th>\n",
       "      <td>8fd8ab85a388</td>\n",
       "      <td>Rotterdam</td>\n",
       "      <td>v_004</td>\n",
       "      <td>CRF</td>\n",
       "      <td>Rome</td>\n",
       "      <td>Berlin</td>\n",
       "      <td>1650715</td>\n",
       "      <td>752</td>\n",
       "      <td>True</td>\n",
       "      <td>(41.8933203, 12.4829321)</td>\n",
       "      <td>(52.5170365, 13.3888599)</td>\n",
       "      <td>1183.0545</td>\n",
       "    </tr>\n",
       "    <tr>\n",
       "      <th>3</th>\n",
       "      <td>4d4db9cf2118</td>\n",
       "      <td>Athens</td>\n",
       "      <td>v_002</td>\n",
       "      <td>DTD</td>\n",
       "      <td>Zaragoza</td>\n",
       "      <td>Lyon</td>\n",
       "      <td>1699564</td>\n",
       "      <td>464</td>\n",
       "      <td>True</td>\n",
       "      <td>(41.6521342, -0.8809428)</td>\n",
       "      <td>(45.7578137, 4.8320114)</td>\n",
       "      <td>647.8470</td>\n",
       "    </tr>\n",
       "    <tr>\n",
       "      <th>4</th>\n",
       "      <td>adfa57775ee7</td>\n",
       "      <td>Rotterdam</td>\n",
       "      <td>v_004</td>\n",
       "      <td>CRF</td>\n",
       "      <td>Venlo</td>\n",
       "      <td>Helsinki</td>\n",
       "      <td>1680210</td>\n",
       "      <td>493</td>\n",
       "      <td>True</td>\n",
       "      <td>(51.39244885, 6.1511724144122955)</td>\n",
       "      <td>(60.1674881, 24.9427473)</td>\n",
       "      <td>1521.8218</td>\n",
       "    </tr>\n",
       "    <tr>\n",
       "      <th>...</th>\n",
       "      <td>...</td>\n",
       "      <td>...</td>\n",
       "      <td>...</td>\n",
       "      <td>...</td>\n",
       "      <td>...</td>\n",
       "      <td>...</td>\n",
       "      <td>...</td>\n",
       "      <td>...</td>\n",
       "      <td>...</td>\n",
       "      <td>...</td>\n",
       "      <td>...</td>\n",
       "      <td>...</td>\n",
       "    </tr>\n",
       "    <tr>\n",
       "      <th>174235</th>\n",
       "      <td>3f4b15fb770e</td>\n",
       "      <td>Rotterdam</td>\n",
       "      <td>v_002</td>\n",
       "      <td>CRF</td>\n",
       "      <td>Dusseldorf</td>\n",
       "      <td>Bordeaux</td>\n",
       "      <td>1681376</td>\n",
       "      <td>645</td>\n",
       "      <td>False</td>\n",
       "      <td>(51.2254018, 6.7763137)</td>\n",
       "      <td>(44.841225, -0.5800364)</td>\n",
       "      <td>896.2065</td>\n",
       "    </tr>\n",
       "    <tr>\n",
       "      <th>174236</th>\n",
       "      <td>d2e6978a38fd</td>\n",
       "      <td>Barcelona</td>\n",
       "      <td>v_004</td>\n",
       "      <td>DTD</td>\n",
       "      <td>Dusseldorf</td>\n",
       "      <td>Berlin</td>\n",
       "      <td>1676942</td>\n",
       "      <td>502</td>\n",
       "      <td>False</td>\n",
       "      <td>(51.2254018, 6.7763137)</td>\n",
       "      <td>(52.5170365, 13.3888599)</td>\n",
       "      <td>477.3717</td>\n",
       "    </tr>\n",
       "    <tr>\n",
       "      <th>174237</th>\n",
       "      <td>b88babd5c7bd</td>\n",
       "      <td>Rotterdam</td>\n",
       "      <td>v_002</td>\n",
       "      <td>DTP</td>\n",
       "      <td>Dusseldorf</td>\n",
       "      <td>Rome</td>\n",
       "      <td>1692737</td>\n",
       "      <td>464</td>\n",
       "      <td>False</td>\n",
       "      <td>(51.2254018, 6.7763137)</td>\n",
       "      <td>(41.8933203, 12.4829321)</td>\n",
       "      <td>1125.0290</td>\n",
       "    </tr>\n",
       "    <tr>\n",
       "      <th>174238</th>\n",
       "      <td>b0b5c761613f</td>\n",
       "      <td>Barcelona</td>\n",
       "      <td>v_003</td>\n",
       "      <td>DTD</td>\n",
       "      <td>Dusseldorf</td>\n",
       "      <td>Munich</td>\n",
       "      <td>1699974</td>\n",
       "      <td>388</td>\n",
       "      <td>False</td>\n",
       "      <td>(51.2254018, 6.7763137)</td>\n",
       "      <td>(48.1371079, 11.5753822)</td>\n",
       "      <td>487.5926</td>\n",
       "    </tr>\n",
       "    <tr>\n",
       "      <th>174239</th>\n",
       "      <td>1ab8e51519e4</td>\n",
       "      <td>Rotterdam</td>\n",
       "      <td>v_002</td>\n",
       "      <td>DTD</td>\n",
       "      <td>Venlo</td>\n",
       "      <td>Bucharest</td>\n",
       "      <td>1620510</td>\n",
       "      <td>482</td>\n",
       "      <td>False</td>\n",
       "      <td>(51.39244885, 6.1511724144122955)</td>\n",
       "      <td>(44.4361414, 26.1027202)</td>\n",
       "      <td>1672.4754</td>\n",
       "    </tr>\n",
       "  </tbody>\n",
       "</table>\n",
       "<p>174240 rows × 12 columns</p>\n",
       "</div>"
      ],
      "text/plain": [
       "            order_id origin_port    3pl customs_procedures logistic_hub  \\\n",
       "0       4ae8df0c2f6b   Rotterdam  v_004                DTP        Venlo   \n",
       "1       f7e61794ca0a      Athens  v_004                CRF        Venlo   \n",
       "2       8fd8ab85a388   Rotterdam  v_004                CRF         Rome   \n",
       "3       4d4db9cf2118      Athens  v_002                DTD     Zaragoza   \n",
       "4       adfa57775ee7   Rotterdam  v_004                CRF        Venlo   \n",
       "...              ...         ...    ...                ...          ...   \n",
       "174235  3f4b15fb770e   Rotterdam  v_002                CRF   Dusseldorf   \n",
       "174236  d2e6978a38fd   Barcelona  v_004                DTD   Dusseldorf   \n",
       "174237  b88babd5c7bd   Rotterdam  v_002                DTP   Dusseldorf   \n",
       "174238  b0b5c761613f   Barcelona  v_003                DTD   Dusseldorf   \n",
       "174239  1ab8e51519e4   Rotterdam  v_002                DTD        Venlo   \n",
       "\n",
       "         customer  product_id  units  late_order  \\\n",
       "0       Stockholm     1690628    507        True   \n",
       "1          Madrid     1676563    479        True   \n",
       "2          Berlin     1650715    752        True   \n",
       "3            Lyon     1699564    464        True   \n",
       "4        Helsinki     1680210    493        True   \n",
       "...           ...         ...    ...         ...   \n",
       "174235   Bordeaux     1681376    645       False   \n",
       "174236     Berlin     1676942    502       False   \n",
       "174237       Rome     1692737    464       False   \n",
       "174238     Munich     1699974    388       False   \n",
       "174239  Bucharest     1620510    482       False   \n",
       "\n",
       "                          city_from_coord             city_to_coord   distance  \n",
       "0       (51.39244885, 6.1511724144122955)  (59.3251172, 18.0710935)  1159.0472  \n",
       "1       (51.39244885, 6.1511724144122955)  (40.4167047, -3.7035825)  1436.9241  \n",
       "2                (41.8933203, 12.4829321)  (52.5170365, 13.3888599)  1183.0545  \n",
       "3                (41.6521342, -0.8809428)   (45.7578137, 4.8320114)   647.8470  \n",
       "4       (51.39244885, 6.1511724144122955)  (60.1674881, 24.9427473)  1521.8218  \n",
       "...                                   ...                       ...        ...  \n",
       "174235            (51.2254018, 6.7763137)   (44.841225, -0.5800364)   896.2065  \n",
       "174236            (51.2254018, 6.7763137)  (52.5170365, 13.3888599)   477.3717  \n",
       "174237            (51.2254018, 6.7763137)  (41.8933203, 12.4829321)  1125.0290  \n",
       "174238            (51.2254018, 6.7763137)  (48.1371079, 11.5753822)   487.5926  \n",
       "174239  (51.39244885, 6.1511724144122955)  (44.4361414, 26.1027202)  1672.4754  \n",
       "\n",
       "[174240 rows x 12 columns]"
      ]
     },
     "execution_count": 35,
     "metadata": {},
     "output_type": "execute_result"
    }
   ],
   "source": [
    "df_m"
   ]
  },
  {
   "cell_type": "code",
   "execution_count": 36,
   "id": "8291245d",
   "metadata": {
    "scrolled": true
   },
   "outputs": [
    {
     "name": "stdout",
     "output_type": "stream",
     "text": [
      "<class 'pandas.core.frame.DataFrame'>\n",
      "Int64Index: 174240 entries, 0 to 174239\n",
      "Data columns (total 12 columns):\n",
      " #   Column              Non-Null Count   Dtype  \n",
      "---  ------              --------------   -----  \n",
      " 0   order_id            174240 non-null  object \n",
      " 1   origin_port         174240 non-null  object \n",
      " 2   3pl                 174240 non-null  object \n",
      " 3   customs_procedures  174240 non-null  object \n",
      " 4   logistic_hub        172509 non-null  object \n",
      " 5   customer            174240 non-null  object \n",
      " 6   product_id          174240 non-null  int64  \n",
      " 7   units               174240 non-null  int64  \n",
      " 8   late_order          174240 non-null  bool   \n",
      " 9   city_from_coord     170307 non-null  object \n",
      " 10  city_to_coord       170307 non-null  object \n",
      " 11  distance            170307 non-null  float64\n",
      "dtypes: bool(1), float64(1), int64(2), object(8)\n",
      "memory usage: 16.1+ MB\n"
     ]
    }
   ],
   "source": [
    "df_m.info()"
   ]
  },
  {
   "cell_type": "code",
   "execution_count": 37,
   "id": "10334903",
   "metadata": {
    "scrolled": true
   },
   "outputs": [
    {
     "data": {
      "text/plain": [
       "3     14139\n",
       "14    14106\n",
       "17    14085\n",
       "20    11136\n",
       "27    10317\n",
       "18     8580\n",
       "13     8370\n",
       "24     7806\n",
       "0      7767\n",
       "9      7701\n",
       "2      6661\n",
       "16     6621\n",
       "23     5735\n",
       "8      5484\n",
       "6      5138\n",
       "1      4944\n",
       "7      4020\n",
       "19     3959\n",
       "12     3659\n",
       "15     3367\n",
       "10     3130\n",
       "25     3108\n",
       "4      2815\n",
       "11     2668\n",
       "26     2504\n",
       "22     2369\n",
       "5      2211\n",
       "21     1840\n",
       "Name: customer, dtype: int64"
      ]
     },
     "execution_count": 37,
     "metadata": {},
     "output_type": "execute_result"
    }
   ],
   "source": [
    "df_m['3pl'] = df_m['3pl'].astype('category')\n",
    "df_m['3pl'] =df_m['3pl'].cat.codes\n",
    "df_m['3pl'].value_counts()\n",
    "\n",
    "df_m['logistic_hub'] = df_m['logistic_hub'].astype('category')\n",
    "df_m['logistic_hub'] =df_m['logistic_hub'].cat.codes\n",
    "df_m['logistic_hub'].value_counts()\n",
    "\n",
    "\n",
    "df_m['customer'] = df_m['customer'].astype('category')\n",
    "df_m['customer'] =df_m['customer'].cat.codes\n",
    "df_m['customer'].value_counts()\n",
    "\n"
   ]
  },
  {
   "cell_type": "code",
   "execution_count": 38,
   "id": "f413dcdd",
   "metadata": {
    "scrolled": true
   },
   "outputs": [
    {
     "data": {
      "text/html": [
       "<div>\n",
       "<style scoped>\n",
       "    .dataframe tbody tr th:only-of-type {\n",
       "        vertical-align: middle;\n",
       "    }\n",
       "\n",
       "    .dataframe tbody tr th {\n",
       "        vertical-align: top;\n",
       "    }\n",
       "\n",
       "    .dataframe thead th {\n",
       "        text-align: right;\n",
       "    }\n",
       "</style>\n",
       "<table border=\"1\" class=\"dataframe\">\n",
       "  <thead>\n",
       "    <tr style=\"text-align: right;\">\n",
       "      <th></th>\n",
       "      <th>order_id</th>\n",
       "      <th>origin_port</th>\n",
       "      <th>3pl</th>\n",
       "      <th>customs_procedures</th>\n",
       "      <th>logistic_hub</th>\n",
       "      <th>customer</th>\n",
       "      <th>product_id</th>\n",
       "      <th>units</th>\n",
       "      <th>late_order</th>\n",
       "      <th>city_from_coord</th>\n",
       "      <th>city_to_coord</th>\n",
       "      <th>distance</th>\n",
       "    </tr>\n",
       "  </thead>\n",
       "  <tbody>\n",
       "    <tr>\n",
       "      <th>0</th>\n",
       "      <td>4ae8df0c2f6b</td>\n",
       "      <td>Rotterdam</td>\n",
       "      <td>3</td>\n",
       "      <td>DTP</td>\n",
       "      <td>6</td>\n",
       "      <td>24</td>\n",
       "      <td>1690628</td>\n",
       "      <td>507</td>\n",
       "      <td>True</td>\n",
       "      <td>(51.39244885, 6.1511724144122955)</td>\n",
       "      <td>(59.3251172, 18.0710935)</td>\n",
       "      <td>1159.0472</td>\n",
       "    </tr>\n",
       "    <tr>\n",
       "      <th>1</th>\n",
       "      <td>f7e61794ca0a</td>\n",
       "      <td>Athens</td>\n",
       "      <td>3</td>\n",
       "      <td>CRF</td>\n",
       "      <td>6</td>\n",
       "      <td>14</td>\n",
       "      <td>1676563</td>\n",
       "      <td>479</td>\n",
       "      <td>True</td>\n",
       "      <td>(51.39244885, 6.1511724144122955)</td>\n",
       "      <td>(40.4167047, -3.7035825)</td>\n",
       "      <td>1436.9241</td>\n",
       "    </tr>\n",
       "    <tr>\n",
       "      <th>2</th>\n",
       "      <td>8fd8ab85a388</td>\n",
       "      <td>Rotterdam</td>\n",
       "      <td>3</td>\n",
       "      <td>CRF</td>\n",
       "      <td>5</td>\n",
       "      <td>3</td>\n",
       "      <td>1650715</td>\n",
       "      <td>752</td>\n",
       "      <td>True</td>\n",
       "      <td>(41.8933203, 12.4829321)</td>\n",
       "      <td>(52.5170365, 13.3888599)</td>\n",
       "      <td>1183.0545</td>\n",
       "    </tr>\n",
       "    <tr>\n",
       "      <th>3</th>\n",
       "      <td>4d4db9cf2118</td>\n",
       "      <td>Athens</td>\n",
       "      <td>1</td>\n",
       "      <td>DTD</td>\n",
       "      <td>8</td>\n",
       "      <td>13</td>\n",
       "      <td>1699564</td>\n",
       "      <td>464</td>\n",
       "      <td>True</td>\n",
       "      <td>(41.6521342, -0.8809428)</td>\n",
       "      <td>(45.7578137, 4.8320114)</td>\n",
       "      <td>647.8470</td>\n",
       "    </tr>\n",
       "    <tr>\n",
       "      <th>4</th>\n",
       "      <td>adfa57775ee7</td>\n",
       "      <td>Rotterdam</td>\n",
       "      <td>3</td>\n",
       "      <td>CRF</td>\n",
       "      <td>6</td>\n",
       "      <td>11</td>\n",
       "      <td>1680210</td>\n",
       "      <td>493</td>\n",
       "      <td>True</td>\n",
       "      <td>(51.39244885, 6.1511724144122955)</td>\n",
       "      <td>(60.1674881, 24.9427473)</td>\n",
       "      <td>1521.8218</td>\n",
       "    </tr>\n",
       "    <tr>\n",
       "      <th>...</th>\n",
       "      <td>...</td>\n",
       "      <td>...</td>\n",
       "      <td>...</td>\n",
       "      <td>...</td>\n",
       "      <td>...</td>\n",
       "      <td>...</td>\n",
       "      <td>...</td>\n",
       "      <td>...</td>\n",
       "      <td>...</td>\n",
       "      <td>...</td>\n",
       "      <td>...</td>\n",
       "      <td>...</td>\n",
       "    </tr>\n",
       "    <tr>\n",
       "      <th>174235</th>\n",
       "      <td>3f4b15fb770e</td>\n",
       "      <td>Rotterdam</td>\n",
       "      <td>1</td>\n",
       "      <td>CRF</td>\n",
       "      <td>1</td>\n",
       "      <td>4</td>\n",
       "      <td>1681376</td>\n",
       "      <td>645</td>\n",
       "      <td>False</td>\n",
       "      <td>(51.2254018, 6.7763137)</td>\n",
       "      <td>(44.841225, -0.5800364)</td>\n",
       "      <td>896.2065</td>\n",
       "    </tr>\n",
       "    <tr>\n",
       "      <th>174236</th>\n",
       "      <td>d2e6978a38fd</td>\n",
       "      <td>Barcelona</td>\n",
       "      <td>3</td>\n",
       "      <td>DTD</td>\n",
       "      <td>1</td>\n",
       "      <td>3</td>\n",
       "      <td>1676942</td>\n",
       "      <td>502</td>\n",
       "      <td>False</td>\n",
       "      <td>(51.2254018, 6.7763137)</td>\n",
       "      <td>(52.5170365, 13.3888599)</td>\n",
       "      <td>477.3717</td>\n",
       "    </tr>\n",
       "    <tr>\n",
       "      <th>174237</th>\n",
       "      <td>b88babd5c7bd</td>\n",
       "      <td>Rotterdam</td>\n",
       "      <td>1</td>\n",
       "      <td>DTP</td>\n",
       "      <td>1</td>\n",
       "      <td>23</td>\n",
       "      <td>1692737</td>\n",
       "      <td>464</td>\n",
       "      <td>False</td>\n",
       "      <td>(51.2254018, 6.7763137)</td>\n",
       "      <td>(41.8933203, 12.4829321)</td>\n",
       "      <td>1125.0290</td>\n",
       "    </tr>\n",
       "    <tr>\n",
       "      <th>174238</th>\n",
       "      <td>b0b5c761613f</td>\n",
       "      <td>Barcelona</td>\n",
       "      <td>2</td>\n",
       "      <td>DTD</td>\n",
       "      <td>1</td>\n",
       "      <td>18</td>\n",
       "      <td>1699974</td>\n",
       "      <td>388</td>\n",
       "      <td>False</td>\n",
       "      <td>(51.2254018, 6.7763137)</td>\n",
       "      <td>(48.1371079, 11.5753822)</td>\n",
       "      <td>487.5926</td>\n",
       "    </tr>\n",
       "    <tr>\n",
       "      <th>174239</th>\n",
       "      <td>1ab8e51519e4</td>\n",
       "      <td>Rotterdam</td>\n",
       "      <td>1</td>\n",
       "      <td>DTD</td>\n",
       "      <td>6</td>\n",
       "      <td>6</td>\n",
       "      <td>1620510</td>\n",
       "      <td>482</td>\n",
       "      <td>False</td>\n",
       "      <td>(51.39244885, 6.1511724144122955)</td>\n",
       "      <td>(44.4361414, 26.1027202)</td>\n",
       "      <td>1672.4754</td>\n",
       "    </tr>\n",
       "  </tbody>\n",
       "</table>\n",
       "<p>174240 rows × 12 columns</p>\n",
       "</div>"
      ],
      "text/plain": [
       "            order_id origin_port  3pl customs_procedures  logistic_hub  \\\n",
       "0       4ae8df0c2f6b   Rotterdam    3                DTP             6   \n",
       "1       f7e61794ca0a      Athens    3                CRF             6   \n",
       "2       8fd8ab85a388   Rotterdam    3                CRF             5   \n",
       "3       4d4db9cf2118      Athens    1                DTD             8   \n",
       "4       adfa57775ee7   Rotterdam    3                CRF             6   \n",
       "...              ...         ...  ...                ...           ...   \n",
       "174235  3f4b15fb770e   Rotterdam    1                CRF             1   \n",
       "174236  d2e6978a38fd   Barcelona    3                DTD             1   \n",
       "174237  b88babd5c7bd   Rotterdam    1                DTP             1   \n",
       "174238  b0b5c761613f   Barcelona    2                DTD             1   \n",
       "174239  1ab8e51519e4   Rotterdam    1                DTD             6   \n",
       "\n",
       "        customer  product_id  units  late_order  \\\n",
       "0             24     1690628    507        True   \n",
       "1             14     1676563    479        True   \n",
       "2              3     1650715    752        True   \n",
       "3             13     1699564    464        True   \n",
       "4             11     1680210    493        True   \n",
       "...          ...         ...    ...         ...   \n",
       "174235         4     1681376    645       False   \n",
       "174236         3     1676942    502       False   \n",
       "174237        23     1692737    464       False   \n",
       "174238        18     1699974    388       False   \n",
       "174239         6     1620510    482       False   \n",
       "\n",
       "                          city_from_coord             city_to_coord   distance  \n",
       "0       (51.39244885, 6.1511724144122955)  (59.3251172, 18.0710935)  1159.0472  \n",
       "1       (51.39244885, 6.1511724144122955)  (40.4167047, -3.7035825)  1436.9241  \n",
       "2                (41.8933203, 12.4829321)  (52.5170365, 13.3888599)  1183.0545  \n",
       "3                (41.6521342, -0.8809428)   (45.7578137, 4.8320114)   647.8470  \n",
       "4       (51.39244885, 6.1511724144122955)  (60.1674881, 24.9427473)  1521.8218  \n",
       "...                                   ...                       ...        ...  \n",
       "174235            (51.2254018, 6.7763137)   (44.841225, -0.5800364)   896.2065  \n",
       "174236            (51.2254018, 6.7763137)  (52.5170365, 13.3888599)   477.3717  \n",
       "174237            (51.2254018, 6.7763137)  (41.8933203, 12.4829321)  1125.0290  \n",
       "174238            (51.2254018, 6.7763137)  (48.1371079, 11.5753822)   487.5926  \n",
       "174239  (51.39244885, 6.1511724144122955)  (44.4361414, 26.1027202)  1672.4754  \n",
       "\n",
       "[174240 rows x 12 columns]"
      ]
     },
     "execution_count": 38,
     "metadata": {},
     "output_type": "execute_result"
    }
   ],
   "source": [
    "df_m"
   ]
  },
  {
   "cell_type": "code",
   "execution_count": 39,
   "id": "cd034812",
   "metadata": {},
   "outputs": [],
   "source": [
    "df_merged = df_m.replace('Athens', 0)\n",
    "df_merged = df_merged.replace('Barcelona', 1)\n",
    "df_merged = df_merged.replace('Rotterdam', 2)"
   ]
  },
  {
   "cell_type": "code",
   "execution_count": 41,
   "id": "1d5ed249",
   "metadata": {},
   "outputs": [
    {
     "data": {
      "text/html": [
       "<div>\n",
       "<style scoped>\n",
       "    .dataframe tbody tr th:only-of-type {\n",
       "        vertical-align: middle;\n",
       "    }\n",
       "\n",
       "    .dataframe tbody tr th {\n",
       "        vertical-align: top;\n",
       "    }\n",
       "\n",
       "    .dataframe thead th {\n",
       "        text-align: right;\n",
       "    }\n",
       "</style>\n",
       "<table border=\"1\" class=\"dataframe\">\n",
       "  <thead>\n",
       "    <tr style=\"text-align: right;\">\n",
       "      <th></th>\n",
       "      <th>order_id</th>\n",
       "      <th>origin_port</th>\n",
       "      <th>3pl</th>\n",
       "      <th>customs_procedures</th>\n",
       "      <th>logistic_hub</th>\n",
       "      <th>customer</th>\n",
       "      <th>product_id</th>\n",
       "      <th>units</th>\n",
       "      <th>late_order</th>\n",
       "      <th>city_from_coord</th>\n",
       "      <th>city_to_coord</th>\n",
       "      <th>distance</th>\n",
       "    </tr>\n",
       "  </thead>\n",
       "  <tbody>\n",
       "    <tr>\n",
       "      <th>0</th>\n",
       "      <td>4ae8df0c2f6b</td>\n",
       "      <td>2</td>\n",
       "      <td>3</td>\n",
       "      <td>0</td>\n",
       "      <td>6</td>\n",
       "      <td>24</td>\n",
       "      <td>1690628</td>\n",
       "      <td>507</td>\n",
       "      <td>True</td>\n",
       "      <td>(51.39244885, 6.1511724144122955)</td>\n",
       "      <td>(59.3251172, 18.0710935)</td>\n",
       "      <td>1159.0472</td>\n",
       "    </tr>\n",
       "    <tr>\n",
       "      <th>1</th>\n",
       "      <td>f7e61794ca0a</td>\n",
       "      <td>0</td>\n",
       "      <td>3</td>\n",
       "      <td>2</td>\n",
       "      <td>6</td>\n",
       "      <td>14</td>\n",
       "      <td>1676563</td>\n",
       "      <td>479</td>\n",
       "      <td>True</td>\n",
       "      <td>(51.39244885, 6.1511724144122955)</td>\n",
       "      <td>(40.4167047, -3.7035825)</td>\n",
       "      <td>1436.9241</td>\n",
       "    </tr>\n",
       "    <tr>\n",
       "      <th>2</th>\n",
       "      <td>8fd8ab85a388</td>\n",
       "      <td>2</td>\n",
       "      <td>3</td>\n",
       "      <td>2</td>\n",
       "      <td>5</td>\n",
       "      <td>3</td>\n",
       "      <td>1650715</td>\n",
       "      <td>752</td>\n",
       "      <td>True</td>\n",
       "      <td>(41.8933203, 12.4829321)</td>\n",
       "      <td>(52.5170365, 13.3888599)</td>\n",
       "      <td>1183.0545</td>\n",
       "    </tr>\n",
       "    <tr>\n",
       "      <th>3</th>\n",
       "      <td>4d4db9cf2118</td>\n",
       "      <td>0</td>\n",
       "      <td>1</td>\n",
       "      <td>1</td>\n",
       "      <td>8</td>\n",
       "      <td>13</td>\n",
       "      <td>1699564</td>\n",
       "      <td>464</td>\n",
       "      <td>True</td>\n",
       "      <td>(41.6521342, -0.8809428)</td>\n",
       "      <td>(45.7578137, 4.8320114)</td>\n",
       "      <td>647.8470</td>\n",
       "    </tr>\n",
       "    <tr>\n",
       "      <th>4</th>\n",
       "      <td>adfa57775ee7</td>\n",
       "      <td>2</td>\n",
       "      <td>3</td>\n",
       "      <td>2</td>\n",
       "      <td>6</td>\n",
       "      <td>11</td>\n",
       "      <td>1680210</td>\n",
       "      <td>493</td>\n",
       "      <td>True</td>\n",
       "      <td>(51.39244885, 6.1511724144122955)</td>\n",
       "      <td>(60.1674881, 24.9427473)</td>\n",
       "      <td>1521.8218</td>\n",
       "    </tr>\n",
       "    <tr>\n",
       "      <th>...</th>\n",
       "      <td>...</td>\n",
       "      <td>...</td>\n",
       "      <td>...</td>\n",
       "      <td>...</td>\n",
       "      <td>...</td>\n",
       "      <td>...</td>\n",
       "      <td>...</td>\n",
       "      <td>...</td>\n",
       "      <td>...</td>\n",
       "      <td>...</td>\n",
       "      <td>...</td>\n",
       "      <td>...</td>\n",
       "    </tr>\n",
       "    <tr>\n",
       "      <th>174235</th>\n",
       "      <td>3f4b15fb770e</td>\n",
       "      <td>2</td>\n",
       "      <td>1</td>\n",
       "      <td>2</td>\n",
       "      <td>1</td>\n",
       "      <td>4</td>\n",
       "      <td>1681376</td>\n",
       "      <td>645</td>\n",
       "      <td>False</td>\n",
       "      <td>(51.2254018, 6.7763137)</td>\n",
       "      <td>(44.841225, -0.5800364)</td>\n",
       "      <td>896.2065</td>\n",
       "    </tr>\n",
       "    <tr>\n",
       "      <th>174236</th>\n",
       "      <td>d2e6978a38fd</td>\n",
       "      <td>1</td>\n",
       "      <td>3</td>\n",
       "      <td>1</td>\n",
       "      <td>1</td>\n",
       "      <td>3</td>\n",
       "      <td>1676942</td>\n",
       "      <td>502</td>\n",
       "      <td>False</td>\n",
       "      <td>(51.2254018, 6.7763137)</td>\n",
       "      <td>(52.5170365, 13.3888599)</td>\n",
       "      <td>477.3717</td>\n",
       "    </tr>\n",
       "    <tr>\n",
       "      <th>174237</th>\n",
       "      <td>b88babd5c7bd</td>\n",
       "      <td>2</td>\n",
       "      <td>1</td>\n",
       "      <td>0</td>\n",
       "      <td>1</td>\n",
       "      <td>23</td>\n",
       "      <td>1692737</td>\n",
       "      <td>464</td>\n",
       "      <td>False</td>\n",
       "      <td>(51.2254018, 6.7763137)</td>\n",
       "      <td>(41.8933203, 12.4829321)</td>\n",
       "      <td>1125.0290</td>\n",
       "    </tr>\n",
       "    <tr>\n",
       "      <th>174238</th>\n",
       "      <td>b0b5c761613f</td>\n",
       "      <td>1</td>\n",
       "      <td>2</td>\n",
       "      <td>1</td>\n",
       "      <td>1</td>\n",
       "      <td>18</td>\n",
       "      <td>1699974</td>\n",
       "      <td>388</td>\n",
       "      <td>False</td>\n",
       "      <td>(51.2254018, 6.7763137)</td>\n",
       "      <td>(48.1371079, 11.5753822)</td>\n",
       "      <td>487.5926</td>\n",
       "    </tr>\n",
       "    <tr>\n",
       "      <th>174239</th>\n",
       "      <td>1ab8e51519e4</td>\n",
       "      <td>2</td>\n",
       "      <td>1</td>\n",
       "      <td>1</td>\n",
       "      <td>6</td>\n",
       "      <td>6</td>\n",
       "      <td>1620510</td>\n",
       "      <td>482</td>\n",
       "      <td>False</td>\n",
       "      <td>(51.39244885, 6.1511724144122955)</td>\n",
       "      <td>(44.4361414, 26.1027202)</td>\n",
       "      <td>1672.4754</td>\n",
       "    </tr>\n",
       "  </tbody>\n",
       "</table>\n",
       "<p>174240 rows × 12 columns</p>\n",
       "</div>"
      ],
      "text/plain": [
       "            order_id  origin_port  3pl  customs_procedures  logistic_hub  \\\n",
       "0       4ae8df0c2f6b            2    3                   0             6   \n",
       "1       f7e61794ca0a            0    3                   2             6   \n",
       "2       8fd8ab85a388            2    3                   2             5   \n",
       "3       4d4db9cf2118            0    1                   1             8   \n",
       "4       adfa57775ee7            2    3                   2             6   \n",
       "...              ...          ...  ...                 ...           ...   \n",
       "174235  3f4b15fb770e            2    1                   2             1   \n",
       "174236  d2e6978a38fd            1    3                   1             1   \n",
       "174237  b88babd5c7bd            2    1                   0             1   \n",
       "174238  b0b5c761613f            1    2                   1             1   \n",
       "174239  1ab8e51519e4            2    1                   1             6   \n",
       "\n",
       "        customer  product_id  units  late_order  \\\n",
       "0             24     1690628    507        True   \n",
       "1             14     1676563    479        True   \n",
       "2              3     1650715    752        True   \n",
       "3             13     1699564    464        True   \n",
       "4             11     1680210    493        True   \n",
       "...          ...         ...    ...         ...   \n",
       "174235         4     1681376    645       False   \n",
       "174236         3     1676942    502       False   \n",
       "174237        23     1692737    464       False   \n",
       "174238        18     1699974    388       False   \n",
       "174239         6     1620510    482       False   \n",
       "\n",
       "                          city_from_coord             city_to_coord   distance  \n",
       "0       (51.39244885, 6.1511724144122955)  (59.3251172, 18.0710935)  1159.0472  \n",
       "1       (51.39244885, 6.1511724144122955)  (40.4167047, -3.7035825)  1436.9241  \n",
       "2                (41.8933203, 12.4829321)  (52.5170365, 13.3888599)  1183.0545  \n",
       "3                (41.6521342, -0.8809428)   (45.7578137, 4.8320114)   647.8470  \n",
       "4       (51.39244885, 6.1511724144122955)  (60.1674881, 24.9427473)  1521.8218  \n",
       "...                                   ...                       ...        ...  \n",
       "174235            (51.2254018, 6.7763137)   (44.841225, -0.5800364)   896.2065  \n",
       "174236            (51.2254018, 6.7763137)  (52.5170365, 13.3888599)   477.3717  \n",
       "174237            (51.2254018, 6.7763137)  (41.8933203, 12.4829321)  1125.0290  \n",
       "174238            (51.2254018, 6.7763137)  (48.1371079, 11.5753822)   487.5926  \n",
       "174239  (51.39244885, 6.1511724144122955)  (44.4361414, 26.1027202)  1672.4754  \n",
       "\n",
       "[174240 rows x 12 columns]"
      ]
     },
     "execution_count": 41,
     "metadata": {},
     "output_type": "execute_result"
    }
   ],
   "source": [
    "df_merged = df_merged.replace('DTP', 0)\n",
    "df_merged = df_merged.replace('DTD', 1)\n",
    "df_merged = df_merged.replace('CRF', 2)\n",
    "\n",
    "\n",
    "df_merged"
   ]
  },
  {
   "cell_type": "code",
   "execution_count": 43,
   "id": "5f62d4b8",
   "metadata": {},
   "outputs": [
    {
     "data": {
      "text/plain": [
       "True     87120\n",
       "False    87120\n",
       "Name: late_order, dtype: int64"
      ]
     },
     "execution_count": 43,
     "metadata": {},
     "output_type": "execute_result"
    }
   ],
   "source": [
    "df_merged['late_order'].value_counts()"
   ]
  },
  {
   "cell_type": "code",
   "execution_count": 44,
   "id": "81ebfa19",
   "metadata": {},
   "outputs": [
    {
     "data": {
      "text/html": [
       "<div>\n",
       "<style scoped>\n",
       "    .dataframe tbody tr th:only-of-type {\n",
       "        vertical-align: middle;\n",
       "    }\n",
       "\n",
       "    .dataframe tbody tr th {\n",
       "        vertical-align: top;\n",
       "    }\n",
       "\n",
       "    .dataframe thead th {\n",
       "        text-align: right;\n",
       "    }\n",
       "</style>\n",
       "<table border=\"1\" class=\"dataframe\">\n",
       "  <thead>\n",
       "    <tr style=\"text-align: right;\">\n",
       "      <th></th>\n",
       "      <th>product_id</th>\n",
       "      <th>weight</th>\n",
       "      <th>material_handling</th>\n",
       "    </tr>\n",
       "  </thead>\n",
       "  <tbody>\n",
       "    <tr>\n",
       "      <th>0</th>\n",
       "      <td>1672707</td>\n",
       "      <td>2876</td>\n",
       "      <td>3</td>\n",
       "    </tr>\n",
       "    <tr>\n",
       "      <th>1</th>\n",
       "      <td>1694456</td>\n",
       "      <td>2785</td>\n",
       "      <td>5</td>\n",
       "    </tr>\n",
       "    <tr>\n",
       "      <th>2</th>\n",
       "      <td>1682865</td>\n",
       "      <td>2751</td>\n",
       "      <td>3</td>\n",
       "    </tr>\n",
       "    <tr>\n",
       "      <th>3</th>\n",
       "      <td>1689146</td>\n",
       "      <td>2736</td>\n",
       "      <td>0</td>\n",
       "    </tr>\n",
       "    <tr>\n",
       "      <th>4</th>\n",
       "      <td>1664069</td>\n",
       "      <td>2707</td>\n",
       "      <td>4</td>\n",
       "    </tr>\n",
       "    <tr>\n",
       "      <th>...</th>\n",
       "      <td>...</td>\n",
       "      <td>...</td>\n",
       "      <td>...</td>\n",
       "    </tr>\n",
       "    <tr>\n",
       "      <th>767</th>\n",
       "      <td>1682793</td>\n",
       "      <td>162</td>\n",
       "      <td>0</td>\n",
       "    </tr>\n",
       "    <tr>\n",
       "      <th>768</th>\n",
       "      <td>1683403</td>\n",
       "      <td>161</td>\n",
       "      <td>1</td>\n",
       "    </tr>\n",
       "    <tr>\n",
       "      <th>769</th>\n",
       "      <td>1699799</td>\n",
       "      <td>153</td>\n",
       "      <td>3</td>\n",
       "    </tr>\n",
       "    <tr>\n",
       "      <th>770</th>\n",
       "      <td>1699768</td>\n",
       "      <td>139</td>\n",
       "      <td>5</td>\n",
       "    </tr>\n",
       "    <tr>\n",
       "      <th>771</th>\n",
       "      <td>1660578</td>\n",
       "      <td>136</td>\n",
       "      <td>5</td>\n",
       "    </tr>\n",
       "  </tbody>\n",
       "</table>\n",
       "<p>772 rows × 3 columns</p>\n",
       "</div>"
      ],
      "text/plain": [
       "     product_id  weight  material_handling\n",
       "0       1672707    2876                  3\n",
       "1       1694456    2785                  5\n",
       "2       1682865    2751                  3\n",
       "3       1689146    2736                  0\n",
       "4       1664069    2707                  4\n",
       "..          ...     ...                ...\n",
       "767     1682793     162                  0\n",
       "768     1683403     161                  1\n",
       "769     1699799     153                  3\n",
       "770     1699768     139                  5\n",
       "771     1660578     136                  5\n",
       "\n",
       "[772 rows x 3 columns]"
      ]
     },
     "execution_count": 44,
     "metadata": {},
     "output_type": "execute_result"
    }
   ],
   "source": [
    "df_prod = pd.read_csv('datathon_SC_ACN_22/product_attributes.csv')\n",
    "df_prod"
   ]
  },
  {
   "cell_type": "code",
   "execution_count": 45,
   "id": "2b136e84",
   "metadata": {
    "scrolled": false
   },
   "outputs": [
    {
     "data": {
      "text/html": [
       "<div>\n",
       "<style scoped>\n",
       "    .dataframe tbody tr th:only-of-type {\n",
       "        vertical-align: middle;\n",
       "    }\n",
       "\n",
       "    .dataframe tbody tr th {\n",
       "        vertical-align: top;\n",
       "    }\n",
       "\n",
       "    .dataframe thead th {\n",
       "        text-align: right;\n",
       "    }\n",
       "</style>\n",
       "<table border=\"1\" class=\"dataframe\">\n",
       "  <thead>\n",
       "    <tr style=\"text-align: right;\">\n",
       "      <th></th>\n",
       "      <th>order_id</th>\n",
       "      <th>origin_port</th>\n",
       "      <th>3pl</th>\n",
       "      <th>customs_procedures</th>\n",
       "      <th>logistic_hub</th>\n",
       "      <th>customer</th>\n",
       "      <th>product_id</th>\n",
       "      <th>units</th>\n",
       "      <th>late_order</th>\n",
       "      <th>city_from_coord</th>\n",
       "      <th>city_to_coord</th>\n",
       "      <th>distance</th>\n",
       "      <th>weight</th>\n",
       "      <th>material_handling</th>\n",
       "    </tr>\n",
       "  </thead>\n",
       "  <tbody>\n",
       "    <tr>\n",
       "      <th>0</th>\n",
       "      <td>4ae8df0c2f6b</td>\n",
       "      <td>2</td>\n",
       "      <td>3</td>\n",
       "      <td>0</td>\n",
       "      <td>6</td>\n",
       "      <td>24</td>\n",
       "      <td>1690628</td>\n",
       "      <td>507</td>\n",
       "      <td>True</td>\n",
       "      <td>(51.39244885, 6.1511724144122955)</td>\n",
       "      <td>(59.3251172, 18.0710935)</td>\n",
       "      <td>1159.0472</td>\n",
       "      <td>747.0</td>\n",
       "      <td>3.0</td>\n",
       "    </tr>\n",
       "    <tr>\n",
       "      <th>1</th>\n",
       "      <td>f7e61794ca0a</td>\n",
       "      <td>0</td>\n",
       "      <td>3</td>\n",
       "      <td>2</td>\n",
       "      <td>6</td>\n",
       "      <td>14</td>\n",
       "      <td>1676563</td>\n",
       "      <td>479</td>\n",
       "      <td>True</td>\n",
       "      <td>(51.39244885, 6.1511724144122955)</td>\n",
       "      <td>(40.4167047, -3.7035825)</td>\n",
       "      <td>1436.9241</td>\n",
       "      <td>804.0</td>\n",
       "      <td>5.0</td>\n",
       "    </tr>\n",
       "    <tr>\n",
       "      <th>2</th>\n",
       "      <td>8fd8ab85a388</td>\n",
       "      <td>2</td>\n",
       "      <td>3</td>\n",
       "      <td>2</td>\n",
       "      <td>5</td>\n",
       "      <td>3</td>\n",
       "      <td>1650715</td>\n",
       "      <td>752</td>\n",
       "      <td>True</td>\n",
       "      <td>(41.8933203, 12.4829321)</td>\n",
       "      <td>(52.5170365, 13.3888599)</td>\n",
       "      <td>1183.0545</td>\n",
       "      <td>1895.0</td>\n",
       "      <td>4.0</td>\n",
       "    </tr>\n",
       "    <tr>\n",
       "      <th>3</th>\n",
       "      <td>4d4db9cf2118</td>\n",
       "      <td>0</td>\n",
       "      <td>1</td>\n",
       "      <td>1</td>\n",
       "      <td>8</td>\n",
       "      <td>13</td>\n",
       "      <td>1699564</td>\n",
       "      <td>464</td>\n",
       "      <td>True</td>\n",
       "      <td>(41.6521342, -0.8809428)</td>\n",
       "      <td>(45.7578137, 4.8320114)</td>\n",
       "      <td>647.8470</td>\n",
       "      <td>1089.0</td>\n",
       "      <td>3.0</td>\n",
       "    </tr>\n",
       "    <tr>\n",
       "      <th>4</th>\n",
       "      <td>adfa57775ee7</td>\n",
       "      <td>2</td>\n",
       "      <td>3</td>\n",
       "      <td>2</td>\n",
       "      <td>6</td>\n",
       "      <td>11</td>\n",
       "      <td>1680210</td>\n",
       "      <td>493</td>\n",
       "      <td>True</td>\n",
       "      <td>(51.39244885, 6.1511724144122955)</td>\n",
       "      <td>(60.1674881, 24.9427473)</td>\n",
       "      <td>1521.8218</td>\n",
       "      <td>216.0</td>\n",
       "      <td>2.0</td>\n",
       "    </tr>\n",
       "    <tr>\n",
       "      <th>...</th>\n",
       "      <td>...</td>\n",
       "      <td>...</td>\n",
       "      <td>...</td>\n",
       "      <td>...</td>\n",
       "      <td>...</td>\n",
       "      <td>...</td>\n",
       "      <td>...</td>\n",
       "      <td>...</td>\n",
       "      <td>...</td>\n",
       "      <td>...</td>\n",
       "      <td>...</td>\n",
       "      <td>...</td>\n",
       "      <td>...</td>\n",
       "      <td>...</td>\n",
       "    </tr>\n",
       "    <tr>\n",
       "      <th>174235</th>\n",
       "      <td>3f4b15fb770e</td>\n",
       "      <td>2</td>\n",
       "      <td>1</td>\n",
       "      <td>2</td>\n",
       "      <td>1</td>\n",
       "      <td>4</td>\n",
       "      <td>1681376</td>\n",
       "      <td>645</td>\n",
       "      <td>False</td>\n",
       "      <td>(51.2254018, 6.7763137)</td>\n",
       "      <td>(44.841225, -0.5800364)</td>\n",
       "      <td>896.2065</td>\n",
       "      <td>1896.0</td>\n",
       "      <td>3.0</td>\n",
       "    </tr>\n",
       "    <tr>\n",
       "      <th>174236</th>\n",
       "      <td>d2e6978a38fd</td>\n",
       "      <td>1</td>\n",
       "      <td>3</td>\n",
       "      <td>1</td>\n",
       "      <td>1</td>\n",
       "      <td>3</td>\n",
       "      <td>1676942</td>\n",
       "      <td>502</td>\n",
       "      <td>False</td>\n",
       "      <td>(51.2254018, 6.7763137)</td>\n",
       "      <td>(52.5170365, 13.3888599)</td>\n",
       "      <td>477.3717</td>\n",
       "      <td>746.0</td>\n",
       "      <td>1.0</td>\n",
       "    </tr>\n",
       "    <tr>\n",
       "      <th>174237</th>\n",
       "      <td>b88babd5c7bd</td>\n",
       "      <td>2</td>\n",
       "      <td>1</td>\n",
       "      <td>0</td>\n",
       "      <td>1</td>\n",
       "      <td>23</td>\n",
       "      <td>1692737</td>\n",
       "      <td>464</td>\n",
       "      <td>False</td>\n",
       "      <td>(51.2254018, 6.7763137)</td>\n",
       "      <td>(41.8933203, 12.4829321)</td>\n",
       "      <td>1125.0290</td>\n",
       "      <td>572.0</td>\n",
       "      <td>5.0</td>\n",
       "    </tr>\n",
       "    <tr>\n",
       "      <th>174238</th>\n",
       "      <td>b0b5c761613f</td>\n",
       "      <td>1</td>\n",
       "      <td>2</td>\n",
       "      <td>1</td>\n",
       "      <td>1</td>\n",
       "      <td>18</td>\n",
       "      <td>1699974</td>\n",
       "      <td>388</td>\n",
       "      <td>False</td>\n",
       "      <td>(51.2254018, 6.7763137)</td>\n",
       "      <td>(48.1371079, 11.5753822)</td>\n",
       "      <td>487.5926</td>\n",
       "      <td>1894.0</td>\n",
       "      <td>1.0</td>\n",
       "    </tr>\n",
       "    <tr>\n",
       "      <th>174239</th>\n",
       "      <td>1ab8e51519e4</td>\n",
       "      <td>2</td>\n",
       "      <td>1</td>\n",
       "      <td>1</td>\n",
       "      <td>6</td>\n",
       "      <td>6</td>\n",
       "      <td>1620510</td>\n",
       "      <td>482</td>\n",
       "      <td>False</td>\n",
       "      <td>(51.39244885, 6.1511724144122955)</td>\n",
       "      <td>(44.4361414, 26.1027202)</td>\n",
       "      <td>1672.4754</td>\n",
       "      <td>1308.0</td>\n",
       "      <td>4.0</td>\n",
       "    </tr>\n",
       "  </tbody>\n",
       "</table>\n",
       "<p>174240 rows × 14 columns</p>\n",
       "</div>"
      ],
      "text/plain": [
       "            order_id  origin_port  3pl  customs_procedures  logistic_hub  \\\n",
       "0       4ae8df0c2f6b            2    3                   0             6   \n",
       "1       f7e61794ca0a            0    3                   2             6   \n",
       "2       8fd8ab85a388            2    3                   2             5   \n",
       "3       4d4db9cf2118            0    1                   1             8   \n",
       "4       adfa57775ee7            2    3                   2             6   \n",
       "...              ...          ...  ...                 ...           ...   \n",
       "174235  3f4b15fb770e            2    1                   2             1   \n",
       "174236  d2e6978a38fd            1    3                   1             1   \n",
       "174237  b88babd5c7bd            2    1                   0             1   \n",
       "174238  b0b5c761613f            1    2                   1             1   \n",
       "174239  1ab8e51519e4            2    1                   1             6   \n",
       "\n",
       "        customer  product_id  units  late_order  \\\n",
       "0             24     1690628    507        True   \n",
       "1             14     1676563    479        True   \n",
       "2              3     1650715    752        True   \n",
       "3             13     1699564    464        True   \n",
       "4             11     1680210    493        True   \n",
       "...          ...         ...    ...         ...   \n",
       "174235         4     1681376    645       False   \n",
       "174236         3     1676942    502       False   \n",
       "174237        23     1692737    464       False   \n",
       "174238        18     1699974    388       False   \n",
       "174239         6     1620510    482       False   \n",
       "\n",
       "                          city_from_coord             city_to_coord  \\\n",
       "0       (51.39244885, 6.1511724144122955)  (59.3251172, 18.0710935)   \n",
       "1       (51.39244885, 6.1511724144122955)  (40.4167047, -3.7035825)   \n",
       "2                (41.8933203, 12.4829321)  (52.5170365, 13.3888599)   \n",
       "3                (41.6521342, -0.8809428)   (45.7578137, 4.8320114)   \n",
       "4       (51.39244885, 6.1511724144122955)  (60.1674881, 24.9427473)   \n",
       "...                                   ...                       ...   \n",
       "174235            (51.2254018, 6.7763137)   (44.841225, -0.5800364)   \n",
       "174236            (51.2254018, 6.7763137)  (52.5170365, 13.3888599)   \n",
       "174237            (51.2254018, 6.7763137)  (41.8933203, 12.4829321)   \n",
       "174238            (51.2254018, 6.7763137)  (48.1371079, 11.5753822)   \n",
       "174239  (51.39244885, 6.1511724144122955)  (44.4361414, 26.1027202)   \n",
       "\n",
       "         distance  weight  material_handling  \n",
       "0       1159.0472   747.0                3.0  \n",
       "1       1436.9241   804.0                5.0  \n",
       "2       1183.0545  1895.0                4.0  \n",
       "3        647.8470  1089.0                3.0  \n",
       "4       1521.8218   216.0                2.0  \n",
       "...           ...     ...                ...  \n",
       "174235   896.2065  1896.0                3.0  \n",
       "174236   477.3717   746.0                1.0  \n",
       "174237  1125.0290   572.0                5.0  \n",
       "174238   487.5926  1894.0                1.0  \n",
       "174239  1672.4754  1308.0                4.0  \n",
       "\n",
       "[174240 rows x 14 columns]"
      ]
     },
     "execution_count": 45,
     "metadata": {},
     "output_type": "execute_result"
    }
   ],
   "source": [
    "df_m2 = df_merged.merge(df_prod, on='product_id', how='left')\n",
    "df_m2"
   ]
  },
  {
   "cell_type": "code",
   "execution_count": 46,
   "id": "e24372d3",
   "metadata": {},
   "outputs": [
    {
     "data": {
      "text/plain": [
       "1    87120\n",
       "0    87120\n",
       "Name: late_order, dtype: int64"
      ]
     },
     "execution_count": 46,
     "metadata": {},
     "output_type": "execute_result"
    }
   ],
   "source": [
    "df_m2['late_order'] = df_m2['late_order'].astype('category')\n",
    "df_m2['late_order'] =df_m2['late_order'].cat.codes\n",
    "df_m2['late_order'].value_counts()"
   ]
  },
  {
   "cell_type": "code",
   "execution_count": 47,
   "id": "d57af752",
   "metadata": {},
   "outputs": [],
   "source": [
    "del df_m2['city_from_coord']\n",
    "del df_m2['city_to_coord']\n",
    "del df_m2['order_id']\n",
    "y = df_m2['late_order']\n",
    "del df_m2['late_order']"
   ]
  },
  {
   "cell_type": "code",
   "execution_count": 48,
   "id": "e3e50314",
   "metadata": {},
   "outputs": [],
   "source": [
    "data = df_m2.join(y)"
   ]
  },
  {
   "cell_type": "code",
   "execution_count": 50,
   "id": "250c9537",
   "metadata": {},
   "outputs": [
    {
     "data": {
      "text/plain": [
       "<AxesSubplot:>"
      ]
     },
     "execution_count": 50,
     "metadata": {},
     "output_type": "execute_result"
    },
    {
     "data": {
      "image/png": "[encoded data removed]",
      "text/plain": [
       "<Figure size 640x480 with 2 Axes>"
      ]
     },
     "metadata": {},
     "output_type": "display_data"
    }
   ],
   "source": [
    "corr = data.corr()\n",
    "sns.heatmap(corr, \n",
    "        xticklabels=corr.columns,\n",
    "        yticklabels=corr.columns)\n",
    "\n",
    "\n",
    "# def norm(x):\n",
    "#     a = (x-x.min())/(x.max()-x.min())\n",
    "#     return a"
   ]
  },
  {
   "cell_type": "code",
   "execution_count": 53,
   "id": "543cd915",
   "metadata": {},
   "outputs": [],
   "source": [
    "data['product_id'] = data['product_id'].astype('category')\n",
    "data['customer'] = data['customer'].astype('category')\n",
    "data['customs_procedures'] = data['customs_procedures'].astype('category')\n",
    "data['origin_port'] = data['origin_port'].astype('category')\n",
    "data['3pl'] = data['3pl'].astype('category')\n",
    "data['logistic_hub'] = data['logistic_hub'].astype('category')\n",
    "data['material_handling'] = data['material_handling'].astype('category')\n",
    "data['late_order'] = data['late_order'].astype('category')"
   ]
  },
  {
   "cell_type": "code",
   "execution_count": 54,
   "id": "d8bc8d85",
   "metadata": {},
   "outputs": [
    {
     "data": {
      "text/plain": [
       "1650715    5759\n",
       "1613321    4919\n",
       "1644308    3729\n",
       "1657474    3426\n",
       "1657437    2562\n",
       "           ... \n",
       "1666441       2\n",
       "1696753       1\n",
       "1666470       1\n",
       "1681700       1\n",
       "1682594       1\n",
       "Name: product_id, Length: 770, dtype: int64"
      ]
     },
     "execution_count": 54,
     "metadata": {},
     "output_type": "execute_result"
    }
   ],
   "source": [
    "data['product_id'].value_counts()"
   ]
  },
  {
   "cell_type": "code",
   "execution_count": 55,
   "id": "35e71d36",
   "metadata": {},
   "outputs": [],
   "source": [
    "data.to_csv('train.csv', index=False)"
   ]
  },
  {
   "cell_type": "code",
   "execution_count": 57,
   "id": "9d7d2bd1",
   "metadata": {},
   "outputs": [],
   "source": [
    "from sklearn.model_selection import train_test_split\n",
    "train, val = train_test_split(data, test_size=0.25, shuffle=True)\n",
    "\n",
    "train_x = train.iloc[:, [0,2,3,4,6,7,8,9]] \n",
    "train_y = train.iloc[:,10]\n",
    "val_x = val.iloc[:, [0,2,3,4,6,7,8,9]] \n",
    "val_y = val.iloc[:,10]"
   ]
  },
  {
   "cell_type": "code",
   "execution_count": 58,
   "id": "8367fa38",
   "metadata": {},
   "outputs": [
    {
     "data": {
      "text/plain": [
       "1    65436\n",
       "0    65244\n",
       "Name: late_order, dtype: int64"
      ]
     },
     "execution_count": 58,
     "metadata": {},
     "output_type": "execute_result"
    }
   ],
   "source": [
    "train_y.value_counts()"
   ]
  },
  {
   "cell_type": "code",
   "execution_count": 59,
   "id": "3c5a5efb",
   "metadata": {},
   "outputs": [
    {
     "data": {
      "text/plain": [
       "0    21876\n",
       "1    21684\n",
       "Name: late_order, dtype: int64"
      ]
     },
     "execution_count": 59,
     "metadata": {},
     "output_type": "execute_result"
    }
   ],
   "source": [
    "val_y.value_counts()"
   ]
  },
  {
   "cell_type": "markdown",
   "id": "41678da8",
   "metadata": {},
   "source": [
    "## Gradient Boosting"
   ]
  },
  {
   "cell_type": "code",
   "execution_count": 60,
   "id": "a1269ceb",
   "metadata": {
    "scrolled": true
   },
   "outputs": [],
   "source": [
    "from sklearn.ensemble import GradientBoostingClassifier, RandomForestClassifier, AdaBoostClassifier\n",
    "from sklearn.metrics import f1_score\n",
    "from sklearn.metrics import plot_confusion_matrix\n",
    "\n",
    "clf_gb = GradientBoostingClassifier(n_estimators=100, learning_rate=1,\n",
    "     max_depth=12, random_state=0).fit(np.nan_to_num(train_x), train_y)\n",
    "\n",
    "plot_confusion_matrix(clf_gb, np.nan_to_num(val_x), val_y)"
   ]
  },
  {
   "cell_type": "code",
   "execution_count": 63,
   "id": "64798d46",
   "metadata": {},
   "outputs": [],
   "source": [
    "score = clf_gb.score(np.nan_to_num(val_x), val_y)\n",
    "y_pred = clf_gb.predict(np.nan_to_num(val_x))\n",
    "f1 = f1_score(val_y, y_pred)\n",
    "f1, score"
   ]
  },
  {
   "cell_type": "markdown",
   "id": "bd649098",
   "metadata": {},
   "source": [
    "## Read Test"
   ]
  },
  {
   "cell_type": "code",
   "execution_count": null,
   "id": "75e61e7b",
   "metadata": {},
   "outputs": [],
   "source": [
    "test = pd.read_csv('datathon_SC_ACN_22/test.csv', delimiter=';')\n",
    "test = test.replace('ATHENAS','Athens')\n",
    "test = test.replace('BCN','Barcelona')"
   ]
  },
  {
   "cell_type": "code",
   "execution_count": null,
   "id": "df9ddfb3",
   "metadata": {},
   "outputs": [],
   "source": [
    "df_test = test.merge(df_cities, how='left', on=['logistic_hub', 'customer'])"
   ]
  },
  {
   "cell_type": "code",
   "execution_count": null,
   "id": "b4d63ebd",
   "metadata": {},
   "outputs": [],
   "source": [
    "df_testm = df_test.merge(df_prod, on='product_id', how='left')\n"
   ]
  },
  {
   "cell_type": "code",
   "execution_count": null,
   "id": "c01f5f3c",
   "metadata": {},
   "outputs": [],
   "source": [
    "df_testm"
   ]
  },
  {
   "cell_type": "code",
   "execution_count": null,
   "id": "542e8685",
   "metadata": {},
   "outputs": [],
   "source": [
    "df_testm['3pl'] = df_testm['3pl'].astype('category')\n",
    "df_testm['3pl'] =df_testm['3pl'].cat.codes\n",
    "\n",
    "df_testm['logistic_hub'] = df_testm['logistic_hub'].astype('category')\n",
    "df_testm['logistic_hub'] =df_testm['logistic_hub'].cat.codes\n",
    "\n",
    "df_testm['customer'] = df_testm['customer'].astype('category')\n",
    "df_testm['customer'] =df_testm['customer'].cat.codes"
   ]
  },
  {
   "cell_type": "code",
   "execution_count": null,
   "id": "043929b8",
   "metadata": {},
   "outputs": [],
   "source": [
    "df_testm"
   ]
  },
  {
   "cell_type": "code",
   "execution_count": null,
   "id": "0e96b463",
   "metadata": {},
   "outputs": [],
   "source": [
    "df_testm = df_testm.replace('Athens', 0)\n",
    "df_testm = df_testm.replace('Barcelona', 1)\n",
    "df_testm = df_testm.replace('Rotterdam', 2)\n",
    "\n",
    "df_testm = df_testm.replace('DTP', 0)\n",
    "df_testm = df_testm.replace('DTD', 1)\n",
    "df_testm = df_testm.replace('CRF', 2)\n",
    "\n",
    "df_testm"
   ]
  },
  {
   "cell_type": "code",
   "execution_count": null,
   "id": "7aeaa2e5",
   "metadata": {},
   "outputs": [],
   "source": [
    "df_testm"
   ]
  },
  {
   "cell_type": "code",
   "execution_count": null,
   "id": "eb5eebdc",
   "metadata": {},
   "outputs": [],
   "source": [
    "del df_testm['city_from_coord']\n",
    "del df_testm['city_to_coord']\n",
    "del df_testm['order_id']"
   ]
  },
  {
   "cell_type": "code",
   "execution_count": null,
   "id": "f7346862",
   "metadata": {},
   "outputs": [],
   "source": [
    "df_testm['product_id'].value_counts()"
   ]
  },
  {
   "cell_type": "code",
   "execution_count": null,
   "id": "fa1ac8e5",
   "metadata": {},
   "outputs": [],
   "source": [
    "df_testm['product_id'] = df_testm['product_id'].astype('category')\n",
    "df_testm['customer'] = df_testm['customer'].astype('category')\n",
    "df_testm['customs_procedures'] = df_testm['customs_procedures'].astype('category')\n",
    "df_testm['origin_port'] = df_testm['origin_port'].astype('category')\n",
    "df_testm['3pl'] = df_testm['3pl'].astype('category')\n",
    "df_testm['logistic_hub'] = df_testm['logistic_hub'].astype('category')\n",
    "df_testm['material_handling'] = df_testm['material_handling'].astype('category')"
   ]
  },
  {
   "cell_type": "code",
   "execution_count": null,
   "id": "c5b5057d",
   "metadata": {},
   "outputs": [],
   "source": [
    "y_pred_1 = clf_gb.predict(np.nan_to_num(df_testm.iloc[:, [0,2,3,4,6,7,8,9]]))"
   ]
  },
  {
   "cell_type": "code",
   "execution_count": null,
   "id": "dd01475e",
   "metadata": {},
   "outputs": [],
   "source": [
    "sum(y_pred_1)/28563"
   ]
  },
  {
   "cell_type": "code",
   "execution_count": null,
   "id": "fe25245f",
   "metadata": {},
   "outputs": [],
   "source": [
    "df_test['late_order']=y_pred_1"
   ]
  },
  {
   "cell_type": "code",
   "execution_count": null,
   "id": "f3c87638",
   "metadata": {},
   "outputs": [],
   "source": [
    "result = df_test[['order_id','late_order']]"
   ]
  },
  {
   "cell_type": "code",
   "execution_count": null,
   "id": "f14b9d58",
   "metadata": {},
   "outputs": [],
   "source": [
    "result.to_csv('result.csv', index=False)"
   ]
  }
 ],
 "metadata": {
  "kernelspec": {
   "display_name": "Python 3 (ipykernel)",
   "language": "python",
   "name": "python3"
  },
  "language_info": {
   "codemirror_mode": {
    "name": "ipython",
    "version": 3
   },
   "file_extension": ".py",
   "mimetype": "text/x-python",
   "name": "python",
   "nbconvert_exporter": "python",
   "pygments_lexer": "ipython3",
   "version": "3.11.2"
  },
  "latex_envs": {
   "LaTeX_envs_menu_present": true,
   "autoclose": false,
   "autocomplete": true,
   "bibliofile": "biblio.bib",
   "cite_by": "apalike",
   "current_citInitial": 1,
   "eqLabelWithNumbers": true,
   "eqNumInitial": 1,
   "hotkeys": {
    "equation": "Ctrl-E",
    "itemize": "Ctrl-I"
   },
   "labels_anchors": false,
   "latex_user_defs": false,
   "report_style_numbering": false,
   "user_envs_cfg": false
  },
  "toc": {
   "base_numbering": 1,
   "nav_menu": {},
   "number_sections": true,
   "sideBar": true,
   "skip_h1_title": false,
   "title_cell": "Table of Contents",
   "title_sidebar": "Contents",
   "toc_cell": false,
   "toc_position": {},
   "toc_section_display": true,
   "toc_window_display": false
  },
  "varInspector": {
   "cols": {
    "lenName": 16,
    "lenType": 16,
    "lenVar": 40
   },
   "kernels_config": {
    "python": {
     "delete_cmd_postfix": "",
     "delete_cmd_prefix": "del ",
     "library": "var_list.py",
     "varRefreshCmd": "print(var_dic_list())"
    },
    "r": {
     "delete_cmd_postfix": ") ",
     "delete_cmd_prefix": "rm(",
     "library": "var_list.r",
     "varRefreshCmd": "cat(var_dic_list()) "
    }
   },
   "types_to_exclude": [
    "module",
    "function",
    "builtin_function_or_method",
    "instance",
    "_Feature"
   ],
   "window_display": false
  }
 },
 "nbformat": 4,
 "nbformat_minor": 5
}
